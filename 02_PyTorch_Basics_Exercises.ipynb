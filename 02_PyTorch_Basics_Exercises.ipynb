{
  "cells": [
    {
      "cell_type": "markdown",
      "metadata": {
        "collapsed": true,
        "jupyter": {
          "outputs_hidden": true
        },
        "id": "BaEDPpSaGwbk"
      },
      "source": [
        "# PyTorch Basics Exercises\n",
        "For these exercises we'll create a tensor and perform several operations on it.\n",
        "\n",
        "<div class=\"alert alert-danger\" style=\"margin: 10px\"><strong>IMPORTANT NOTE!</strong> Make sure you don't run the cells directly above the example output shown, <br>otherwise you will end up writing over the example output!</div>"
      ]
    },
    {
      "cell_type": "markdown",
      "metadata": {
        "id": "GJ8qKzg-Gwbn"
      },
      "source": [
        "### 1. Perform standard imports\n",
        "Import torch and NumPy"
      ]
    },
    {
      "cell_type": "code",
      "execution_count": 2,
      "metadata": {
        "id": "67TUuSaBGwbp"
      },
      "outputs": [],
      "source": [
        "import torch\n",
        "import numpy as np"
      ]
    },
    {
      "cell_type": "markdown",
      "metadata": {
        "id": "Y9beMSXLGwbr"
      },
      "source": [
        "### 2. Set the random seed for NumPy and PyTorch both to \"42\"\n",
        "This allows us to share the same \"random\" results."
      ]
    },
    {
      "cell_type": "code",
      "execution_count": 22,
      "metadata": {
        "colab": {
          "base_uri": "https://localhost:8080/"
        },
        "id": "0QKm3wSuGwbr",
        "outputId": "34e3d190-da0d-4f39-f885-a0f450205292"
      },
      "outputs": [
        {
          "output_type": "execute_result",
          "data": {
            "text/plain": [
              "<torch._C.Generator at 0x793c4ef74610>"
            ]
          },
          "metadata": {},
          "execution_count": 22
        }
      ],
      "source": [
        "np.random.seed(42)\n",
        "torch.manual_seed(42)"
      ]
    },
    {
      "cell_type": "markdown",
      "metadata": {
        "id": "RHnQkSdRGwbs"
      },
      "source": [
        "### 3. Create a NumPy array called \"arr\" that contains 6 random integers between 0 (inclusive) and 5 (exclusive)"
      ]
    },
    {
      "cell_type": "code",
      "execution_count": 23,
      "metadata": {
        "id": "_URW85szGwbt"
      },
      "outputs": [],
      "source": [
        "arr = np.random.randint(0,5,6)\n",
        "print(arr)"
      ]
    },
    {
      "cell_type": "code",
      "execution_count": 24,
      "metadata": {
        "colab": {
          "base_uri": "https://localhost:8080/"
        },
        "id": "eMfjqfnqGwbt",
        "outputId": "810a1bb4-da21-4c4f-d0b4-7b356acb65f7"
      },
      "outputs": [
        {
          "output_type": "stream",
          "name": "stdout",
          "text": [
            "[3 4 2 4 4 1]\n"
          ]
        }
      ],
      "source": [
        "# DON'T WRITE HERE"
      ]
    },
    {
      "cell_type": "markdown",
      "metadata": {
        "id": "0kq4ZTAtGwbv"
      },
      "source": [
        "### 4. Create a tensor \"x\" from the array above"
      ]
    },
    {
      "cell_type": "code",
      "execution_count": 42,
      "metadata": {
        "colab": {
          "base_uri": "https://localhost:8080/"
        },
        "id": "iQk3vefsGwbw",
        "outputId": "e2e135f9-847e-43cd-829b-7660e6c30c66"
      },
      "outputs": [
        {
          "output_type": "stream",
          "name": "stdout",
          "text": [
            "tensor([3, 4, 2, 4, 4, 1]) <class 'torch.Tensor'>\n"
          ]
        }
      ],
      "source": [
        "x=torch.tensor(arr)\n",
        "print(x,type(x))"
      ]
    },
    {
      "cell_type": "code",
      "execution_count": 26,
      "metadata": {
        "colab": {
          "base_uri": "https://localhost:8080/"
        },
        "id": "79nZVFhDGwbw",
        "outputId": "9e1924c7-63c2-4da2-c01a-186552215ffd"
      },
      "outputs": [
        {
          "output_type": "stream",
          "name": "stdout",
          "text": [
            "tensor([3, 4, 2, 4, 4, 1]) <class 'torch.Tensor'>\n"
          ]
        }
      ],
      "source": [
        "# DON'T WRITE HERE"
      ]
    },
    {
      "cell_type": "markdown",
      "metadata": {
        "id": "DnPAxyXZGwbx"
      },
      "source": [
        "### 5. Change the dtype of x from 'int32' to 'int64'\n",
        "Note: 'int64' is also called 'LongTensor'"
      ]
    },
    {
      "cell_type": "code",
      "execution_count": 27,
      "metadata": {
        "colab": {
          "base_uri": "https://localhost:8080/"
        },
        "id": "PnTk1uiTGwbx",
        "outputId": "7bad491c-fa17-41e4-ba6b-4cd03f8402b7"
      },
      "outputs": [
        {
          "output_type": "stream",
          "name": "stdout",
          "text": [
            "tensor([3, 4, 2, 4, 4, 1]) <class 'torch.Tensor'>\n"
          ]
        }
      ],
      "source": [
        "print(x,type(x))"
      ]
    },
    {
      "cell_type": "code",
      "execution_count": 28,
      "metadata": {
        "colab": {
          "base_uri": "https://localhost:8080/"
        },
        "id": "v2Gr3HUsGwby",
        "outputId": "3c1b047b-cbd9-47bc-d2c2-3b6f5dc95da3"
      },
      "outputs": [
        {
          "output_type": "stream",
          "name": "stdout",
          "text": [
            "torch.LongTensor\n"
          ]
        }
      ],
      "source": [
        "# DON'T WRITE HERE"
      ]
    },
    {
      "cell_type": "markdown",
      "metadata": {
        "id": "xEC2sZg3Gwby"
      },
      "source": [
        "### 6. Reshape x into a 3x2 tensor\n",
        "There are several ways to do this."
      ]
    },
    {
      "cell_type": "code",
      "execution_count": 34,
      "metadata": {
        "colab": {
          "base_uri": "https://localhost:8080/"
        },
        "id": "JqQm57deGwbz",
        "outputId": "dc3184b1-dbd5-4041-cc8e-a6d3f41f38ab"
      },
      "outputs": [
        {
          "output_type": "stream",
          "name": "stdout",
          "text": [
            "tensor([[3, 4],\n",
            "        [2, 4],\n",
            "        [4, 1]])\n"
          ]
        }
      ],
      "source": [
        "# CODE HERE\n",
        "x=np.reshape(x,(3,2))\n",
        "print(x)"
      ]
    },
    {
      "cell_type": "code",
      "execution_count": null,
      "metadata": {
        "id": "uAohQlsfGwb0",
        "outputId": "ee088578-ce7e-4f8e-fc5d-3fc135acab73"
      },
      "outputs": [
        {
          "name": "stdout",
          "output_type": "stream",
          "text": [
            "tensor([[3, 4],\n",
            "        [2, 4],\n",
            "        [4, 1]])\n"
          ]
        }
      ],
      "source": [
        "# DON'T WRITE HERE"
      ]
    },
    {
      "cell_type": "markdown",
      "metadata": {
        "id": "pC0cUICJGwb0"
      },
      "source": [
        "### 7. Return the right-hand column of tensor x"
      ]
    },
    {
      "cell_type": "code",
      "execution_count": 35,
      "metadata": {
        "colab": {
          "base_uri": "https://localhost:8080/"
        },
        "id": "rIHKx-ECGwb1",
        "outputId": "a4eac00c-6fd2-4c08-940f-573767f76c53"
      },
      "outputs": [
        {
          "output_type": "stream",
          "name": "stdout",
          "text": [
            "tensor([[4],\n",
            "        [4],\n",
            "        [1]])\n"
          ]
        }
      ],
      "source": [
        "# CODE HERE\n",
        "right=print(x[:,1:])"
      ]
    },
    {
      "cell_type": "code",
      "execution_count": null,
      "metadata": {
        "id": "ppQgP9ahGwb1",
        "outputId": "0994c018-0fca-4220-adce-7b0d90acfa86"
      },
      "outputs": [
        {
          "name": "stdout",
          "output_type": "stream",
          "text": [
            "tensor([[4],\n",
            "        [4],\n",
            "        [1]])\n"
          ]
        }
      ],
      "source": [
        "# DON'T WRITE HERE"
      ]
    },
    {
      "cell_type": "markdown",
      "metadata": {
        "id": "e5H_MvGgGwb1"
      },
      "source": [
        "### 8. Without changing x, return a tensor of square values of x\n",
        "There are several ways to do this."
      ]
    },
    {
      "cell_type": "code",
      "execution_count": 36,
      "metadata": {
        "colab": {
          "base_uri": "https://localhost:8080/"
        },
        "id": "qjseW51HGwb1",
        "outputId": "9955e032-13a1-4f3f-bafa-d4e489bba7d8"
      },
      "outputs": [
        {
          "output_type": "execute_result",
          "data": {
            "text/plain": [
              "tensor([[ 9, 16],\n",
              "        [ 4, 16],\n",
              "        [16,  1]])"
            ]
          },
          "metadata": {},
          "execution_count": 36
        }
      ],
      "source": [
        "# CODE HERE\n",
        "np.reshape(x**2,(3,2))\n"
      ]
    },
    {
      "cell_type": "code",
      "execution_count": null,
      "metadata": {
        "id": "3dpRjc_VGwb2",
        "outputId": "8105522c-bdf0-4508-e530-ea8e373a2452"
      },
      "outputs": [
        {
          "name": "stdout",
          "output_type": "stream",
          "text": [
            "tensor([[ 9, 16],\n",
            "        [ 4, 16],\n",
            "        [16,  1]])\n"
          ]
        }
      ],
      "source": [
        "# DON'T WRITE HERE"
      ]
    },
    {
      "cell_type": "markdown",
      "metadata": {
        "id": "X7YPDs8hGwb2"
      },
      "source": [
        "### 9. Create a tensor \"y\" with the same number of elements as x, that can be matrix-multiplied with x\n",
        "Use PyTorch directly (not NumPy) to create a tensor of random integers between 0 (inclusive) and 5 (exclusive).<br>\n",
        "Think about what shape it should have to permit matrix multiplication."
      ]
    },
    {
      "cell_type": "code",
      "execution_count": 37,
      "metadata": {
        "colab": {
          "base_uri": "https://localhost:8080/"
        },
        "id": "r_sLgC__Gwb2",
        "outputId": "d20e95cf-5200-4ad3-c6bd-00af2e0418b1"
      },
      "outputs": [
        {
          "output_type": "stream",
          "name": "stdout",
          "text": [
            "tensor([[2, 2, 1],\n",
            "        [4, 1, 0]])\n"
          ]
        }
      ],
      "source": [
        "# CODE HERE\n",
        "y=torch.randint(0,5,(2,3))\n",
        "print(y)"
      ]
    },
    {
      "cell_type": "code",
      "execution_count": null,
      "metadata": {
        "id": "RcA57hj7Gwb3",
        "outputId": "6e87a410-b892-4213-cd21-d99aee49250c"
      },
      "outputs": [
        {
          "name": "stdout",
          "output_type": "stream",
          "text": [
            "tensor([[2, 2, 1],\n",
            "        [4, 1, 0]])\n"
          ]
        }
      ],
      "source": [
        "# DON'T WRITE HERE"
      ]
    },
    {
      "cell_type": "markdown",
      "metadata": {
        "id": "k0wbEiOlGwb3"
      },
      "source": [
        "### 10. Find the matrix product of x and y"
      ]
    },
    {
      "cell_type": "code",
      "execution_count": 38,
      "metadata": {
        "colab": {
          "base_uri": "https://localhost:8080/"
        },
        "id": "zlwUdR6-Gwb3",
        "outputId": "4849c3ab-1673-4248-ca9c-9653dfffe585"
      },
      "outputs": [
        {
          "output_type": "stream",
          "name": "stdout",
          "text": [
            "tensor([[22, 10,  3],\n",
            "        [20,  8,  2],\n",
            "        [12,  9,  4]])\n"
          ]
        }
      ],
      "source": [
        "# CODE HERE\n",
        "print(torch.mm(x,y))\n"
      ]
    },
    {
      "cell_type": "code",
      "execution_count": null,
      "metadata": {
        "id": "GpqbAMezGwb4",
        "outputId": "320de835-2c9e-417d-c6ee-89355538a091"
      },
      "outputs": [
        {
          "name": "stdout",
          "output_type": "stream",
          "text": [
            "tensor([[22, 10,  3],\n",
            "        [20,  8,  2],\n",
            "        [12,  9,  4]])\n"
          ]
        }
      ],
      "source": [
        "# DON'T WRITE HERE"
      ]
    },
    {
      "cell_type": "markdown",
      "metadata": {
        "id": "VkinDqOQGwb4"
      },
      "source": [
        "## Great job!"
      ]
    }
  ],
  "metadata": {
    "kernelspec": {
      "display_name": "Python 3 (ipykernel)",
      "language": "python",
      "name": "python3"
    },
    "language_info": {
      "codemirror_mode": {
        "name": "ipython",
        "version": 3
      },
      "file_extension": ".py",
      "mimetype": "text/x-python",
      "name": "python",
      "nbconvert_exporter": "python",
      "pygments_lexer": "ipython3",
      "version": "3.12.3"
    },
    "colab": {
      "provenance": []
    }
  },
  "nbformat": 4,
  "nbformat_minor": 0
}